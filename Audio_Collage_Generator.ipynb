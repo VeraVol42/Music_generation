{
  "cells": [
    {
      "cell_type": "markdown",
      "metadata": {
        "id": "view-in-github",
        "colab_type": "text"
      },
      "source": [
        "<a href=\"https://colab.research.google.com/github/VeraVol42/Music_generation/blob/main/Audio_Collage_Generator.ipynb\" target=\"_parent\"><img src=\"https://colab.research.google.com/assets/colab-badge.svg\" alt=\"Open In Colab\"/></a>"
      ]
    },
    {
      "cell_type": "markdown",
      "source": [
        "# Audio Collage Generator\n",
        "\n",
        "This project is a simple tool for generating audio collages from uploaded music or sound files. Using Python and popular libraries like librosa and soundfile, the tool automatically segments an audio file into smaller beats or chunks and rearranges them randomly to create a unique remix or audio collage.\n",
        "\n",
        "**How to Use:**\n",
        "\n",
        "1. Upload an audio file (e.g., a song or sound clip) in .wav format.\n",
        "2. The program will automatically detect beats and split the audio into segments.\n",
        "3. The segments are shuffled randomly and concatenated into a new audio track.\n",
        "The resulting audio collage is saved as audio_collage.wav and can be played directly in the notebook.\n",
        "4. This project is perfect for experimenting with audio segmentation, creating remixes, or generating sound collages for creative projects."
      ],
      "metadata": {
        "id": "3adrEXTcHlgh"
      }
    },
    {
      "cell_type": "code",
      "execution_count": null,
      "metadata": {
        "id": "tjI71I_fCN2l"
      },
      "outputs": [],
      "source": [
        "# Install necessary libraries\n",
        "!pip install librosa soundfile numpy"
      ]
    },
    {
      "cell_type": "code",
      "execution_count": null,
      "metadata": {
        "id": "8r5S7uNFCRcI"
      },
      "outputs": [],
      "source": [
        "# Import required libraries\n",
        "import librosa\n",
        "import numpy as np\n",
        "import soundfile as sf\n",
        "import os"
      ]
    },
    {
      "cell_type": "code",
      "execution_count": null,
      "metadata": {
        "id": "eq7EvcCTCUsA"
      },
      "outputs": [],
      "source": [
        "# Step 1: Upload and load the audio file\n",
        "from google.colab import files\n",
        "print(\"Please upload your audio file (e.g., song.wav):\")\n",
        "uploaded_file = files.upload()\n",
        "\n",
        "# Load the audio file\n",
        "audio_file = list(uploaded_file.keys())[0]\n",
        "audio, sr = librosa.load(audio_file, sr=None)"
      ]
    },
    {
      "cell_type": "code",
      "execution_count": null,
      "metadata": {
        "id": "Z0OcXwvbCsRL"
      },
      "outputs": [],
      "source": [
        "# Step 2: Segment the audio into beats\n",
        "print(\"Segmenting the audio into beats...\")\n",
        "onsets = librosa.onset.onset_detect(y=audio, sr=sr, units='samples')\n",
        "segments = []\n",
        "\n",
        "for i in range(len(onsets) - 1):\n",
        "    segment = audio[onsets[i]:onsets[i + 1]]\n",
        "    segments.append(segment)\n",
        "\n",
        "print(f\"Audio segmented into {len(segments)} pieces.\")"
      ]
    },
    {
      "cell_type": "code",
      "execution_count": null,
      "metadata": {
        "id": "tppjA97xCwj1"
      },
      "outputs": [],
      "source": [
        "# Step 3: Shuffle and create a collage\n",
        "print(\"Creating a random audio collage...\")\n",
        "np.random.shuffle(segments)\n",
        "collage = np.concatenate(segments)"
      ]
    },
    {
      "cell_type": "code",
      "execution_count": null,
      "metadata": {
        "id": "zOclkLm9CzgQ"
      },
      "outputs": [],
      "source": [
        "# Step 4: Save the collage as a new audio file\n",
        "output_file = \"audio_collage.wav\"\n",
        "sf.write(output_file, collage, sr)\n",
        "print(f\"Collage created and saved as {output_file}\")\n"
      ]
    },
    {
      "cell_type": "code",
      "execution_count": null,
      "metadata": {
        "id": "4XWBy5TuC3Kz"
      },
      "outputs": [],
      "source": [
        "# Step 5: Play the result\n",
        "from IPython.display import Audio\n",
        "Audio(output_file)\n"
      ]
    }
  ],
  "metadata": {
    "colab": {
      "provenance": [],
      "authorship_tag": "ABX9TyNdugM9QWSt8cb+wY9iaWVE",
      "include_colab_link": true
    },
    "kernelspec": {
      "display_name": "Python 3",
      "name": "python3"
    },
    "language_info": {
      "name": "python"
    }
  },
  "nbformat": 4,
  "nbformat_minor": 0
}